{
 "cells": [
  {
   "cell_type": "code",
   "execution_count": 1,
   "metadata": {},
   "outputs": [],
   "source": [
    "import numpy as np\n",
    "import os"
   ]
  },
  {
   "cell_type": "markdown",
   "metadata": {},
   "source": [
    "# Background\n",
    "\n",
    "The overlap matrix is:\n",
    "\n",
    "$$S_{\\mu \\nu} =  \\int d\\vec{r}_{1} \\phi_{\\mu}(1)^{*}\\phi_{\\nu}(1)$$\n",
    "\n",
    "- $\\phi_{\\mu}$ are basis functions (defined in basis set)\n",
    "\n",
    "\n",
    "The unknown molecular orbitals $\\psi_{i}$ are expanded as a linear expansion of the $K$ known basis functions $\\{ \\phi_{i} | i=1,2,..., K \\}$:\n",
    "\n",
    "$$ \\psi_{i} =  \\sum_{\\mu=1}^{K} C_{\\mu i} \\phi_{\\mu}$$\n",
    "\n",
    "\n",
    "$C$ is a $K \\times K$ matrix of expansion coefficients $C_{\\mu i}$. The columns of $C$ describe the molecular orbitals!\n",
    "\n",
    "\n",
    "We can find the total number of electrons $N$ in the system by:\n",
    "\n",
    "$$ N =  2 \\sum_{a}^{N/2}\\int d\\vec{r}  \\bigg( \\psi_{a}(\\vec{r})^{*} \\psi_{i}(\\vec{r}) \\bigg) =  2 \\sum_{a}^{N/2} 1$$\n",
    "\n",
    "- integral gives probablity of finding electron $a$ over all space (must be 1)\n",
    "- summing over all electrons will give the total number of electrons"
   ]
  },
  {
   "cell_type": "code",
   "execution_count": null,
   "metadata": {},
   "outputs": [],
   "source": []
  },
  {
   "cell_type": "markdown",
   "metadata": {},
   "source": [
    "The charge density has the following definition:\n",
    "\n",
    "$$\\rho(\\vec{r}) = 2 \\sum_{a}^{N/2} \\bigg( \\psi_{a}(\\vec{r})^{*} \\psi_{i}(\\vec{r}) \\bigg)$$\n",
    "\n",
    "- re-write using definition of $\\psi_{i}=  \\sum_{\\mu=1}^{K} C_{\\mu i} \\phi_{\\mu}$\n",
    "\n",
    "$$\\rho(\\vec{r}) = 2 \\sum_{a}^{N/2} \\Bigg( \\bigg[ \\sum_{\\nu}^{K} C_{\\nu a}^{*} \\phi_{\\nu}(\\vec{r})^{*} \\bigg] \\bigg[ \\sum_{\\mu}^{K} C_{\\mu a}\\phi_{\\mu}(\\vec{r}) \\bigg] \\Bigg)$$\n",
    "\n",
    "- move things around\n",
    "\n",
    "$$\\rho(\\vec{r}) = \\sum_{\\nu}^{K} \\sum_{\\mu}^{K} \\Big( 2 \\sum_{a}^{N/2} C_{\\mu a} C_{\\nu a}^{*} \\Big) \\phi_{\\mu}(\\vec{r}) \\phi_{\\nu}(\\vec{r})^{*} $$\n",
    "\n",
    "- which is \n",
    "\n",
    "$$\\rho(\\vec{r}) = \\sum_{\\mu, \\nu}^{K} P_{\\mu \\nu} \\phi_{\\mu}(\\vec{r}) \\phi_{\\nu}(\\vec{r})^{*} $$\n",
    "\n",
    "\n",
    "- $P_{\\mu \\nu}$ is known as the density matrix and is:\n",
    "\n",
    "$$P_{\\mu \\nu} = 2 \\sum_{a}^{N/2} C_{\\mu a} C_{\\nu a}^{*}$$"
   ]
  },
  {
   "cell_type": "markdown",
   "metadata": {},
   "source": [
    "Therefore we can also find the total number of electrons in the system by:\n",
    "\n",
    "$$ N =  2 \\sum_{a}^{N/2}\\int d\\vec{r}  \\bigg( \\psi_{a}(\\vec{r})^{*} \\psi_{i}(\\vec{r}) \\bigg) =  \\sum_{\\nu}^{K} \\sum_{\\mu}^{K} \\Big( 2 \\sum_{a}^{N/2} C_{\\mu a} C_{\\nu a}^{*} \\Big) \\int d\\vec{r} \\phi_{\\mu}(\\vec{r})  \\phi_{\\nu}(\\vec{r})^{*}$$\n",
    "\n",
    "- This is simply:\n",
    "\n",
    "$$N =  \\sum_{\\nu}^{K} \\sum_{\\mu}^{K} P_{\\mu \\nu} S_{\\nu \\mu}= \\sum_{\\mu}^{K} PS_{\\mu \\mu} = \\mathcal{Tr}(PS)$$"
   ]
  },
  {
   "cell_type": "markdown",
   "metadata": {},
   "source": [
    "- One can interpret $ PS_{\\mu \\mu}$ in the above equation as the number of electrons associated with $ \\phi_{\\mu}$\n",
    "- This is a **Mulliken population analysis**"
   ]
  },
  {
   "cell_type": "code",
   "execution_count": null,
   "metadata": {},
   "outputs": [],
   "source": []
  },
  {
   "cell_type": "markdown",
   "metadata": {},
   "source": [
    "# Orbital Localization"
   ]
  },
  {
   "cell_type": "markdown",
   "metadata": {},
   "source": [
    "- When we perform a SCF calculation, one gets an optimized C matrix\n",
    "    - $C$ is a $K \\times K$ matrix of expansion coefficients $C_{\\mu i}$\n",
    "    - The columns of $C$ describe the molecular orbitals!\n",
    "    - MO i: $ \\psi_{i} =  \\sum_{\\mu=1}^{K} C_{\\mu i} \\phi_{\\mu}$\n",
    "    \n",
    "    \n",
    "- These molecular orbitals are usually **delocalized**\n",
    "    - non-negligible amplitude over the whole system, rather than only around some atom(s) or bond(s)\n",
    "\n",
    "- But we know in QM that a given basis choice is NOT unique\n",
    "\n",
    "\n",
    "- We can therefore perform a unitary rotation on molecular orbitals\n",
    "\n",
    "$$ \\psi_{i} U_{rot} =  \\Big( \\sum_{\\mu=1}^{K} C_{\\mu i} \\phi_{\\mu} \\Big) U_{rot} = \\psi_{i}^{new}$$\n",
    "    \n",
    "    \n",
    "The idea is to use a rotation such that the resulting orbitals $\\psi_{i}^{new}$ are as spatially localized as possible. \n",
    "\n",
    "\n",
    "The Pipek-Mezey (PM) [localization](https://notendur.hi.is/hj/papers/paperPipekmezey8.pdf) **maximizes the population charges on the atoms**:\n",
    "\n",
    "$$ f (U_{rot}) = \\sum_{A}^{N_{atoms}} \\Bigg( Z_{A} -  \\sum_{\\mu \\text{ on atom } A} PS_{\\mu \\mu} \\Bigg)$$"
   ]
  },
  {
   "cell_type": "markdown",
   "metadata": {},
   "source": [
    "### Method 1\n",
    "- Given optimized $C$ coefficient matrix\n",
    "    - which has been rotated to localize orbitals\n",
    "    - (used to build localized density matrix)\n",
    "\n",
    "\n",
    "- **Look through basis functions $\\phi_{\\mu}$ of the ACTIVE atoms**\n",
    "\n",
    "    \n",
    "- check the mulliken charge // mulliken population of the orbital\n",
    "    - if above a certain threshold associate it to active system\n",
    "    - otherwise put in the environment\n",
    " \n",
    "\n",
    "\n",
    "To choose the active and enviroment subsystems we do the following:\n",
    "\n",
    "1. Given a localized molecular orbs (localized C matrix), we take the absolute mag squared of the coefficients of the active part for a given localized orb and divide by the absolute mag squared of all the coefficents of a that orb... THis will give a value of how much the active system contributes to that orb.\n",
    "\n",
    "2. Mathematically, for orbital $j$ \n",
    "    - remember MO orbs given by columns of C matrix\n",
    "    - In equation below C matrix is the LOCALIZED form!\n",
    "\n",
    "\n",
    "$$ \\text{threshold} =  \\frac{\\sum_{\\mu\\in \\text{active AO}}^{K} |C_{\\mu j}|^{2}}{\\sum_{\\mu =1}^{K} |C_{\\mu j}|^{2}}$$"
   ]
  },
  {
   "cell_type": "markdown",
   "metadata": {},
   "source": [
    "## METHOD 2 - SPADE\n",
    "\n",
    "see https://pubs.acs.org/doi/10.1021/acs.jctc.8b01112 for further info"
   ]
  },
  {
   "cell_type": "code",
   "execution_count": null,
   "metadata": {},
   "outputs": [],
   "source": []
  },
  {
   "cell_type": "code",
   "execution_count": 3,
   "metadata": {},
   "outputs": [],
   "source": [
    "# get xyz file for water\n",
    "\n",
    "notebook_dir = os.getcwd()\n",
    "source_dir = os.path.dirname(notebook_dir)\n",
    "docs_dir = os.path.dirname(source_dir)\n",
    "NBed_dir = os.path.dirname(docs_dir)\n",
    "Test_dir = os.path.join(NBed_dir, 'tests')\n",
    "mol_dir = os.path.join(Test_dir, 'molecules')\n",
    "\n",
    "water_xyz_path = os.path.join(mol_dir, 'water.xyz')"
   ]
  },
  {
   "cell_type": "code",
   "execution_count": 4,
   "metadata": {},
   "outputs": [
    {
     "data": {
      "text/plain": [
       "-74.96445640381192"
      ]
     },
     "execution_count": 4,
     "metadata": {},
     "output_type": "execute_result"
    }
   ],
   "source": [
    "### inputs\n",
    "from pyscf import gto, scf\n",
    "\n",
    "basis = 'STO-3G'\n",
    "charge=0\n",
    "spin=0\n",
    "full_system_mol = gto.Mole(atom= water_xyz_path,\n",
    "                      basis=basis,\n",
    "                       charge=charge,\n",
    "                       spin=spin,\n",
    "                      )\n",
    "full_system_mol.build()\n",
    "\n",
    "HF_scf = scf.RHF(full_system_mol)\n",
    "HF_scf.verbose=1\n",
    "HF_scf.conv_tol = 1e-6\n",
    "HF_scf.kernel()\n",
    "###"
   ]
  },
  {
   "cell_type": "code",
   "execution_count": null,
   "metadata": {},
   "outputs": [],
   "source": []
  },
  {
   "cell_type": "code",
   "execution_count": 5,
   "metadata": {},
   "outputs": [],
   "source": [
    "from nbed.localizers import (\n",
    "    BOYSLocalizer,\n",
    "    IBOLocalizer,\n",
    "    Localizer,\n",
    "    PMLocalizer,\n",
    "    SPADELocalizer,\n",
    ")\n",
    "\n"
   ]
  },
  {
   "cell_type": "code",
   "execution_count": 6,
   "metadata": {},
   "outputs": [],
   "source": [
    "localizers = {\n",
    "    \"spade\": SPADELocalizer,\n",
    "    \"boys\": BOYSLocalizer,\n",
    "    \"ibo\": IBOLocalizer,\n",
    "    \"pipek-mezey\": PMLocalizer,\n",
    "}"
   ]
  },
  {
   "cell_type": "code",
   "execution_count": 7,
   "metadata": {},
   "outputs": [],
   "source": [
    "n_active_atoms = 2 # (first n rows are active in xyz file)\n",
    "loc_str='boys' # <--- change to perform different localization\n",
    "threshold = 0.95\n",
    "\n",
    "\n",
    "## object runs localization when initialized!\n",
    "loc_system = localizers[loc_str](HF_scf,\n",
    "                            n_active_atoms,\n",
    "                            occ_cutoff= threshold,\n",
    "                            # virt_cutoff=0.95,\n",
    "                            # run_virtual_localization=False\n",
    "                                         )"
   ]
  },
  {
   "cell_type": "code",
   "execution_count": 8,
   "metadata": {},
   "outputs": [
    {
     "name": "stdout",
     "output_type": "stream",
     "text": [
      "active MO inds: [0 3 4]\n",
      "enviro MO inds: [1 2]\n",
      "Localized MO threshold: [0.99990166 0.85902768 0.74114111 0.9850458  1.        ]\n",
      "indices above 0.95 set active\n"
     ]
    }
   ],
   "source": [
    "print(f'active MO inds: {loc_system.active_MO_inds}')\n",
    "print(f'enviro MO inds: {loc_system.enviro_MO_inds}')\n",
    "\n",
    "\n",
    "# orb threshold\n",
    "if loc_str!='spade':\n",
    "    print('Localized MO threshold:', loc_system.enviro_selection_condition)\n",
    "    print(f'indices above {threshold} set active')\n",
    "    # indices above threshold (usually 95%) set to active"
   ]
  },
  {
   "cell_type": "code",
   "execution_count": 9,
   "metadata": {},
   "outputs": [
    {
     "name": "stdout",
     "output_type": "stream",
     "text": [
      "does: y_full = y_act + y_env ... True\n",
      "does: n_elec_full = n_elec_act + n_elec_env ... True\n"
     ]
    }
   ],
   "source": [
    "dm_localised_full_system = 2 * loc_system._c_loc_occ @ loc_system._c_loc_occ.conj().T\n",
    "dm_active = loc_system.dm_active\n",
    "dm_enviro = loc_system.dm_enviro\n",
    "\n",
    "# check act and env density give the full density\n",
    "print(f'does: y_full = y_act + y_env ... {np.allclose(dm_localised_full_system, dm_active + dm_enviro)}')                                         \n",
    "\n",
    "\n",
    "\n",
    "\n",
    "# check number of electrons is still the same after orbitals have been localized (change of basis)\n",
    "s_ovlp = loc_system._global_rks.get_ovlp()\n",
    "n_active_electrons = np.trace(dm_active @ s_ovlp)\n",
    "n_enviro_electrons = np.trace(dm_enviro @ s_ovlp)\n",
    "\n",
    "\n",
    "\n",
    "# check number of electrons is correct\n",
    "print(f'does: n_elec_full = n_elec_act + n_elec_env ... {np.allclose(HF_scf.mol.nelectron, n_active_electrons+n_enviro_electrons)}')  \n",
    "\n"
   ]
  },
  {
   "cell_type": "code",
   "execution_count": null,
   "metadata": {},
   "outputs": [],
   "source": []
  },
  {
   "cell_type": "code",
   "execution_count": 10,
   "metadata": {},
   "outputs": [
    {
     "data": {
      "text/plain": [
       "array([[ 1.00992885e+00, -1.62634691e-01, -2.85978937e-14],\n",
       "       [-4.35619101e-02,  9.31755357e-01,  7.73369260e-15],\n",
       "       [ 2.61863492e-14,  9.48834123e-15,  1.00000000e+00],\n",
       "       [ 3.67362210e-14,  3.56951198e-13,  1.98743821e-16],\n",
       "       [-1.33669362e-02,  5.39786928e-01, -3.04105071e-14],\n",
       "       [-1.00261546e-02, -1.35212039e-01,  1.48433077e-14],\n",
       "       [-1.00261546e-02, -1.35212039e-01,  1.49453148e-14]])"
      ]
     },
     "execution_count": 10,
     "metadata": {},
     "output_type": "execute_result"
    }
   ],
   "source": [
    "# active MOs\n",
    "loc_system.c_active"
   ]
  },
  {
   "cell_type": "code",
   "execution_count": 11,
   "metadata": {},
   "outputs": [
    {
     "data": {
      "text/plain": [
       "array([[ 8.40878456e-02,  1.21675745e-13],\n",
       "       [-3.50574789e-01, -9.06636711e-13],\n",
       "       [ 4.52611974e-14, -8.10763196e-17],\n",
       "       [-6.33436831e-13,  6.10081885e-01],\n",
       "       [ 5.59809896e-01,  2.65529198e-13],\n",
       "       [-2.95030215e-01,  4.46960403e-01],\n",
       "       [-2.95030215e-01, -4.46960403e-01]])"
      ]
     },
     "execution_count": 11,
     "metadata": {},
     "output_type": "execute_result"
    }
   ],
   "source": [
    "# enviro MOs\n",
    "loc_system.c_enviro"
   ]
  },
  {
   "cell_type": "code",
   "execution_count": null,
   "metadata": {},
   "outputs": [],
   "source": []
  },
  {
   "cell_type": "code",
   "execution_count": 12,
   "metadata": {},
   "outputs": [
    {
     "data": {
      "text/plain": [
       "array([[ 1.00992885e+00,  8.40878456e-02,  1.21675745e-13,\n",
       "        -1.62634691e-01, -2.85978937e-14, -1.30133482e-01,\n",
       "        -1.48621818e-15],\n",
       "       [-4.35619101e-02, -3.50574789e-01, -9.06636711e-13,\n",
       "         9.31755357e-01,  7.73369260e-15,  8.65430891e-01,\n",
       "         9.74054267e-15],\n",
       "       [ 2.61863492e-14,  4.52611974e-14, -8.10763196e-17,\n",
       "         9.48834123e-15,  1.00000000e+00, -5.40570904e-19,\n",
       "        -1.93708493e-16],\n",
       "       [ 3.67362210e-14, -6.33436831e-13,  6.10081885e-01,\n",
       "         3.56951198e-13,  1.98743821e-16, -1.08473121e-14,\n",
       "         9.78592180e-01],\n",
       "       [-1.33669362e-02,  5.59809896e-01,  2.65529198e-13,\n",
       "         5.39786928e-01, -3.04105071e-14, -7.55871849e-01,\n",
       "        -7.96585020e-15],\n",
       "       [-1.00261546e-02, -2.95030215e-01,  4.46960403e-01,\n",
       "        -1.35212039e-01,  1.48433077e-14, -7.88588623e-01,\n",
       "        -8.33932429e-01],\n",
       "       [-1.00261546e-02, -2.95030215e-01, -4.46960403e-01,\n",
       "        -1.35212039e-01,  1.49453148e-14, -7.88588623e-01,\n",
       "         8.33932429e-01]])"
      ]
     },
     "execution_count": 12,
     "metadata": {},
     "output_type": "execute_result"
    }
   ],
   "source": [
    "# full localized C matrix\n",
    "loc_system.c_loc_occ_and_virt\n"
   ]
  },
  {
   "cell_type": "code",
   "execution_count": 13,
   "metadata": {},
   "outputs": [
    {
     "data": {
      "text/plain": [
       "True"
      ]
     },
     "execution_count": 13,
     "metadata": {},
     "output_type": "execute_result"
    }
   ],
   "source": [
    "# to get active and environment C matrix slice this array using active_MO_inds and enviro_MO_inds\n",
    "\n",
    "## e.g. for environment\n",
    "np.allclose(loc_system.c_loc_occ_and_virt[:, loc_system.enviro_MO_inds],\n",
    "            loc_system.c_enviro)"
   ]
  },
  {
   "cell_type": "code",
   "execution_count": null,
   "metadata": {},
   "outputs": [],
   "source": []
  },
  {
   "cell_type": "code",
   "execution_count": 13,
   "metadata": {},
   "outputs": [],
   "source": [
    "# See notebook 1 on how to plot these LOCALIZED orbitals\n",
    "# use c_loc_occ_and_virt / c_active / c_enviroment to plot localized orbitals"
   ]
  }
 ],
 "metadata": {
  "kernelspec": {
   "display_name": "Python 3 (ipykernel)",
   "language": "python",
   "name": "python3"
  },
  "language_info": {
   "codemirror_mode": {
    "name": "ipython",
    "version": 3
   },
   "file_extension": ".py",
   "mimetype": "text/x-python",
   "name": "python",
   "nbconvert_exporter": "python",
   "pygments_lexer": "ipython3",
   "version": "3.9.7"
  }
 },
 "nbformat": 4,
 "nbformat_minor": 4
}
